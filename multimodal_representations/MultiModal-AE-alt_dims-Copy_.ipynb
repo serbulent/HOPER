{
 "cells": [
  {
   "cell_type": "code",
   "execution_count": 1,
   "metadata": {},
   "outputs": [],
   "source": [
    "import torch\n",
    "import torch.nn as nn\n",
    "from torch.nn import init\n",
    "from torch.autograd import Variable\n",
    "import torch.utils.data as Data\n",
    "from torch.utils.data import TensorDataset, DataLoader\n",
    "from torch.optim import *\n",
    "import numpy as np\n",
    "import pickle\n",
    "import argparse\n",
    "import pandas as pd\n",
    "#from ranking import *\n",
    "from sklearn.preprocessing import StandardScaler\n",
    "import tqdm\n",
    "import fastai\n",
    "import time\n",
    "import copy\n",
    "import matplotlib.pyplot as plt\n",
    "import itertools\n",
    "import random\n",
    "import os"
   ]
  },
  {
   "cell_type": "code",
   "execution_count": 2,
   "metadata": {},
   "outputs": [],
   "source": [
    "def convert_dataframe_to_multi_col(representation_dataframe):\n",
    "    entry = pd.DataFrame(representation_dataframe['Entry'])\n",
    "    vector = pd.DataFrame(list(representation_dataframe['Vector']))\n",
    "    multi_col_representation_vector = pd.merge(left=entry,right=vector,left_index=True, right_index=True)\n",
    "    return multi_col_representation_vector"
   ]
  },
  {
   "cell_type": "code",
   "execution_count": 3,
   "metadata": {},
   "outputs": [],
   "source": [
    "def convert_to_two_col(multi_col_representation_df):\n",
    "    vals = multi_col_representation_df.iloc[:,1:(len(multi_col_representation_df.columns))]\n",
    "    original_values_as_df = pd.DataFrame(columns=['Entry', 'Vector'])\n",
    "    for index, row in tqdm.tqdm(vals.iterrows(), total = len(vals)):\n",
    "        list_of_floats = [float(item) for item in list(row)]\n",
    "        original_values_as_df.loc[index] = [multi_col_representation_df.iloc[index]['Entry']] + [list_of_floats]\n",
    "    return original_values_as_df"
   ]
  },
  {
   "cell_type": "code",
   "execution_count": 4,
   "metadata": {},
   "outputs": [],
   "source": [
    "seq_rep_multi_col = pd.read_csv(\"/media/DATA/serbulent/DATA/Thesis/ReviewPaper/generalized_representation_benchmark/DATA/representation_vectors/revision-1/T5_UNIPROT_HUMAN.csv\")"
   ]
  },
  {
   "cell_type": "code",
   "execution_count": 5,
   "metadata": {},
   "outputs": [],
   "source": [
    "#ppi_rep_multi_col = pd.read_csv(\"/media/DATA/serbulent/DATA/Thesis/TheRepresentation/PPI-Reps/Node2Vec/d_10_p_2_q_2.csv\")"
   ]
  },
  {
   "cell_type": "code",
   "execution_count": 6,
   "metadata": {},
   "outputs": [],
   "source": [
    "ppi_rep_multi_col = pd.read_csv(\"/media/DATA/serbulent/DATA/Thesis/TheRepresentation/PPI-Reps/Node2Vec/d_10_p_2_q_2.csv\")"
   ]
  },
  {
   "cell_type": "code",
   "execution_count": 7,
   "metadata": {},
   "outputs": [],
   "source": [
    "text_rep_multi_col =  pd.read_csv(\"/media/DATA/serbulent/DATA/Thesis/TheRepresentation/ProtText/representation_vectors/unipubmed_tfidf_vectors_pca1024_multi_col_vec.csv\")"
   ]
  },
  {
   "cell_type": "code",
   "execution_count": 8,
   "metadata": {},
   "outputs": [],
   "source": [
    "scaler = StandardScaler()"
   ]
  },
  {
   "cell_type": "code",
   "execution_count": 9,
   "metadata": {},
   "outputs": [],
   "source": [
    "seq_rep_multi_col.loc[:, seq_rep_multi_col.columns != 'Entry'] = \\\n",
    "scaler.fit_transform(seq_rep_multi_col.loc[:, seq_rep_multi_col.columns != 'Entry'])\n",
    "\n",
    "ppi_rep_multi_col.loc[:, ppi_rep_multi_col.columns != 'Entry'] = \\\n",
    "scaler.fit_transform(ppi_rep_multi_col.loc[:, ppi_rep_multi_col.columns != 'Entry'])\n",
    "\n",
    "text_rep_multi_col.loc[:, text_rep_multi_col.columns != 'Entry'] = \\\n",
    "scaler.fit_transform(text_rep_multi_col.loc[:, text_rep_multi_col.columns != 'Entry'])"
   ]
  },
  {
   "cell_type": "code",
   "execution_count": 11,
   "metadata": {},
   "outputs": [
    {
     "name": "stderr",
     "output_type": "stream",
     "text": [
      "100%|██████████| 19996/19996 [00:43<00:00, 460.83it/s]\n"
     ]
    }
   ],
   "source": [
    "sequence_rep = convert_to_two_col(seq_rep_multi_col)"
   ]
  },
  {
   "cell_type": "code",
   "execution_count": 12,
   "metadata": {},
   "outputs": [
    {
     "name": "stderr",
     "output_type": "stream",
     "text": [
      "100%|██████████| 16435/16435 [00:27<00:00, 599.11it/s]\n"
     ]
    }
   ],
   "source": [
    "ppi_rep = convert_to_two_col(ppi_rep_multi_col)"
   ]
  },
  {
   "cell_type": "code",
   "execution_count": 13,
   "metadata": {},
   "outputs": [
    {
     "name": "stderr",
     "output_type": "stream",
     "text": [
      "100%|██████████| 20301/20301 [00:44<00:00, 453.95it/s]\n"
     ]
    }
   ],
   "source": [
    "text_rep = convert_to_two_col(text_rep_multi_col)"
   ]
  },
  {
   "cell_type": "code",
   "execution_count": 14,
   "metadata": {},
   "outputs": [],
   "source": [
    "fuse_phase_1 = sequence_rep.merge(ppi_rep, on='Entry')"
   ]
  },
  {
   "cell_type": "code",
   "execution_count": 15,
   "metadata": {},
   "outputs": [],
   "source": [
    "fuse_phase_2 = fuse_phase_1.merge(text_rep, on='Entry')"
   ]
  },
  {
   "cell_type": "code",
   "execution_count": 16,
   "metadata": {},
   "outputs": [],
   "source": [
    "fuse_phase_2.columns = [\"Entry\",\"sequence\", \"ppi\",\"text\"]"
   ]
  },
  {
   "cell_type": "code",
   "execution_count": 17,
   "metadata": {},
   "outputs": [],
   "source": [
    "sequence_tensors = torch.tensor(list(fuse_phase_2['sequence'].values))\n",
    "ppi_tensors = torch.tensor(list(fuse_phase_2['ppi'].values))\n",
    "text_tensors = torch.tensor(list(fuse_phase_2['text'].values))"
   ]
  },
  {
   "cell_type": "code",
   "execution_count": 20,
   "metadata": {},
   "outputs": [
    {
     "data": {
      "text/plain": [
       "1024"
      ]
     },
     "execution_count": 20,
     "metadata": {},
     "output_type": "execute_result"
    }
   ],
   "source": [
    "sequence_tensors.size(1)"
   ]
  },
  {
   "cell_type": "code",
   "execution_count": 16,
   "metadata": {},
   "outputs": [],
   "source": [
    "batch_size = 128\n",
    "validation_split = .2\n",
    "shuffle_dataset = True\n",
    "seed = 42\n",
    "torch.manual_seed(seed)\n",
    "random.seed(seed)\n",
    "np.random.seed(seed)\n",
    "torch.backends.cudnn.deterministic = True\n",
    "torch.cuda.manual_seed_all(seed)\n",
    "os.environ['PYTHONHASHSEED'] = str(seed)"
   ]
  },
  {
   "cell_type": "code",
   "execution_count": 17,
   "metadata": {},
   "outputs": [],
   "source": [
    "# Creating data indices for training and validation splits:\n",
    "dataset_size = len(sequence_tensors)\n",
    "indices = list(range(dataset_size))\n",
    "split = int(np.floor(validation_split * dataset_size))\n",
    "if shuffle_dataset :\n",
    "    np.random.seed(seed)\n",
    "    np.random.shuffle(indices)\n",
    "train_indices, val_indices = indices[split:], indices[:split]\n",
    "\n",
    "train_loader = DataLoader(train_indices, batch_size=batch_size, \n",
    "                                            pin_memory=True,shuffle=True)\n",
    "validation_loader = DataLoader(val_indices, batch_size=batch_size,\n",
    "                                                 pin_memory=True,shuffle=True)\n"
   ]
  },
  {
   "cell_type": "markdown",
   "metadata": {},
   "source": [
    "# Define Model"
   ]
  },
  {
   "cell_type": "code",
   "execution_count": 18,
   "metadata": {},
   "outputs": [],
   "source": [
    "representation_dim = 512"
   ]
  },
  {
   "cell_type": "code",
   "execution_count": 19,
   "metadata": {},
   "outputs": [],
   "source": [
    "class Autoencoder(nn.Module):\n",
    "    def __init__(self):\n",
    "        super(Autoencoder, self).__init__()\n",
    "        self.text_dim = 1024\n",
    "        self.text_dim1 = 768\n",
    "        self.text_dim2 = 512\n",
    "        self.ppi_dim = 10\n",
    "        self.ppi_dim1 = 10\n",
    "        self.ppi_dim2 = 10\n",
    "        self.seq_dim = 1024\n",
    "        self.seq_dim1 = 768\n",
    "        self.seq_dim2 = 512\n",
    "        self.zdim = representation_dim\n",
    "\n",
    "        self.encoder1 = nn.Sequential(\n",
    "            nn.Linear(self.text_dim, self.text_dim1),\n",
    "            nn.Tanh(),\n",
    "            nn.Linear(self.text_dim1, self.text_dim2),\n",
    "            nn.Tanh()\n",
    "        )\n",
    "        self.encoder2 = nn.Sequential(\n",
    "            nn.Linear(self.ppi_dim, self.ppi_dim1),\n",
    "            nn.Tanh(),\n",
    "            nn.Linear(self.ppi_dim1, self.ppi_dim2),\n",
    "            nn.Tanh()\n",
    "        )\n",
    "        self.encoder3 = nn.Sequential(\n",
    "            nn.Linear(self.seq_dim, self.seq_dim1),\n",
    "            nn.Tanh(),\n",
    "            nn.Linear(self.seq_dim1, self.seq_dim2),\n",
    "            nn.Tanh()\n",
    "        )\n",
    "        self.encoder4 = nn.Sequential(\n",
    "            nn.Linear(self.text_dim2 + self.ppi_dim2 + self.seq_dim2, self.zdim),\n",
    "            nn.Tanh()\n",
    "        )\n",
    "\n",
    "        self.decoder4 = nn.Sequential(\n",
    "            nn.Linear(self.zdim, self.text_dim2 + self.ppi_dim2 + self.seq_dim2),\n",
    "            nn.Tanh()\n",
    "        )\n",
    "\n",
    "        self.decoder3 = nn.Sequential(\n",
    "            nn.Linear(self.text_dim2, self.text_dim1),\n",
    "            nn.Tanh(),\n",
    "            nn.Linear(self.text_dim1, self.text_dim),\n",
    "            nn.Tanh()\n",
    "        )\n",
    "        self.decoder2 = nn.Sequential(\n",
    "            nn.Linear(self.ppi_dim2, self.ppi_dim1),\n",
    "            nn.Tanh(),\n",
    "            nn.Linear(self.ppi_dim1, self.ppi_dim),\n",
    "            nn.Tanh()\n",
    "        )\n",
    "        self.decoder1 = nn.Sequential(\n",
    "            nn.Linear(self.seq_dim2, self.seq_dim1),\n",
    "            nn.Tanh(),\n",
    "            nn.Linear(self.seq_dim1, self.seq_dim),\n",
    "            nn.Tanh()\n",
    "        ) \n",
    "        \n",
    "    def forward(self, x_text, x_ppi, x_seq):\n",
    "        encoded_text = self.encoder1(x_text)\n",
    "        encoded_ppi = self.encoder2(x_ppi)\n",
    "        encoded_seq = self.encoder3(x_seq)\n",
    "        encoded_mid = self.encoder4(torch.cat((encoded_text, encoded_ppi, encoded_seq), dim=1))\n",
    "        decoded_mid = self.decoder4(encoded_mid)\n",
    "        decoded_text = self.decoder3(decoded_mid[:, 0:self.text_dim2])\n",
    "        decoded_ppi = self.decoder2(decoded_mid[:, self.text_dim2:self.text_dim2 + self.ppi_dim2])\n",
    "        decoded_seq = self.decoder1(decoded_mid[:, self.text_dim2 + self.ppi_dim2:])\n",
    "        return decoded_text, decoded_ppi, decoded_seq, encoded_mid"
   ]
  },
  {
   "cell_type": "code",
   "execution_count": 20,
   "metadata": {},
   "outputs": [
    {
     "data": {
      "text/plain": [
       "torch.Size([64, 1024])"
      ]
     },
     "execution_count": 20,
     "metadata": {},
     "output_type": "execute_result"
    }
   ],
   "source": [
    "sequence_tensors[0:64].view(-1, sequence_tensors.shape[1]).to('cuda').shape"
   ]
  },
  {
   "cell_type": "code",
   "execution_count": 21,
   "metadata": {},
   "outputs": [],
   "source": [
    "def train_model(model, train_loader, validation_loader, criterion,optimizer, num_epochs,\\\n",
    "                sequence_tensors,text_tensors,ppi_tensors):\n",
    "    since = time.time()\n",
    "\n",
    "    train_loss_history = []\n",
    "    val_loss_history = []\n",
    "\n",
    "    best_model_wts = copy.deepcopy(model.state_dict())\n",
    "    best_loss = 10**10\n",
    "    \n",
    "    scheduler = lr_scheduler.ReduceLROnPlateau(optimizer, 'min',verbose=True)\n",
    "    #scheduler = lr_scheduler.CosineAnnealingLR(optimizer, T_max=10, eta_min=0)\n",
    "    #scheduler = torch.optim.lr_scheduler.OneCycleLR(optimizer, max_lr=0.1, steps_per_epoch=10, epochs=10,anneal_strategy='linear')\n",
    "    #scheduler =torch.optim.lr_scheduler.CosineAnnealingWarmRestarts(optimizer, T_0=50, T_mult=1, eta_min=1e-8, last_epoch=-1,verbose=True)\n",
    "     #scheduler = torch.optim.lr_scheduler.CyclicLR(optimizer, base_lr=0.001, max_lr=0.1,step_size_up=5,mode=\"triangular2\")\n",
    "    loss_vals = []\n",
    "    encoded_mid = None\n",
    "    sequence_tensors_size = sequence_tensors.shape[1]\n",
    "    ppi_tensors_size = ppi_tensors.shape[1]\n",
    "    text_tensors_size = text_tensors.shape[1]\n",
    "    for epoch in tqdm.tqdm(range(num_epochs)):\n",
    "\n",
    "        # Each epoch has a training and validation phase\n",
    "        for phase in ['train', 'val']:\n",
    "            if phase == 'train':\n",
    "                model.train()  # Set model to training mode\n",
    "                inputs = train_loader\n",
    "            else:\n",
    "                model.eval()   # Set model to evaluate mode\n",
    "                inputs = validation_loader\n",
    "\n",
    "            loss = 0\n",
    "            for batch_features in inputs:\n",
    "               \n",
    "                # reshape mini-batch data to [N, 784] matrix\n",
    "                # load it to the active device\n",
    "                sequence_batch = sequence_tensors[batch_features].view(-1, sequence_tensors_size).to(device)\n",
    "                ppi_batch = ppi_tensors[batch_features].view(-1, ppi_tensors_size).to(device)\n",
    "                text_batch = text_tensors[batch_features].view(-1, text_tensors_size).to(device)\n",
    "\n",
    "                # reset the gradients back to zero\n",
    "                # PyTorch accumulates gradients on subsequent backward passes\n",
    "                optimizer.zero_grad()\n",
    "                \n",
    "                decoded_text, decoded_ppi, decoded_seq, encoded_mid =\\\n",
    "                model(text_batch,ppi_batch,sequence_batch)\n",
    "\n",
    "                # compute training reconstruction loss\n",
    "                train_loss = criterion(decoded_text, text_batch) + \\\n",
    "                criterion(decoded_ppi, ppi_batch) + criterion(decoded_seq, sequence_batch) \n",
    "                #train_loss = criterion(outputs, batch_features,target)\n",
    "\n",
    "                # compute accumulated gradients\n",
    "                train_loss.backward()\n",
    "\n",
    "                # perform parameter update based on current gradients\n",
    "                optimizer.step()\n",
    "\n",
    "                # add the mini-batch training loss to epoch loss\n",
    "                loss += train_loss.item()\n",
    "\n",
    "            # compute the epoch training loss\n",
    "            epoch_loss = loss / len(inputs)\n",
    "\n",
    "            # deep copy the model\n",
    "            if phase == 'val' and epoch_loss < best_loss:\n",
    "                best_loss = epoch_loss\n",
    "                best_model_wts = copy.deepcopy(model.state_dict())\n",
    "            if phase == 'val':\n",
    "                val_loss_history.append(epoch_loss)\n",
    "                scheduler.step(epoch_loss)\n",
    "            elif phase == 'train':\n",
    "                train_loss_history.append(epoch_loss)\n",
    "\n",
    "    time_elapsed = time.time() - since\n",
    "    print('Training complete in {:.0f}m {:.0f}s'.format(time_elapsed // 60, time_elapsed % 60))\n",
    "    print('Best val loss: {:4f}'.format(best_loss))\n",
    "\n",
    "    # load best model weights\n",
    "    model.load_state_dict(best_model_wts)\n",
    "    return model, train_loss_history,val_loss_history,loss_vals"
   ]
  },
  {
   "cell_type": "code",
   "execution_count": 22,
   "metadata": {},
   "outputs": [
    {
     "name": "stdout",
     "output_type": "stream",
     "text": [
      "cuda\n"
     ]
    }
   ],
   "source": [
    "#  use gpu if available\n",
    "device = torch.device(\"cuda\" if torch.cuda.is_available() else \"cpu\")\n",
    "print(device)"
   ]
  },
  {
   "cell_type": "code",
   "execution_count": 23,
   "metadata": {},
   "outputs": [],
   "source": [
    "epochs = 400\n",
    "# create a model from `AE` autoencoder class\n",
    "# load it to the specified device, either gpu or cpu\n",
    "model = Autoencoder().to(device)\n",
    "\n",
    "# create an optimizer object\n",
    "# Adam optimizer with learning rate 1e-3\n",
    "optimizer = torch.optim.AdamW(model.parameters(), lr=1e-3)\n",
    "#optimizer = torch.optim.SGD(model.parameters(), lr=1e-3)\n",
    "\n",
    "# mean-squared error loss\n",
    "criterion = nn.MSELoss()\n",
    "#criterion = nn.SmoothL1Loss()\n",
    "#criterion = nn.CosineEmbeddingLoss()"
   ]
  },
  {
   "cell_type": "code",
   "execution_count": 24,
   "metadata": {},
   "outputs": [
    {
     "name": "stderr",
     "output_type": "stream",
     "text": [
      " 20%|█▉        | 79/400 [01:04<04:20,  1.23it/s]"
     ]
    },
    {
     "name": "stdout",
     "output_type": "stream",
     "text": [
      "Epoch    79: reducing learning rate of group 0 to 1.0000e-04.\n"
     ]
    },
    {
     "name": "stderr",
     "output_type": "stream",
     "text": [
      " 32%|███▏      | 128/400 [01:44<03:40,  1.23it/s]"
     ]
    },
    {
     "name": "stdout",
     "output_type": "stream",
     "text": [
      "Epoch   128: reducing learning rate of group 0 to 1.0000e-05.\n"
     ]
    },
    {
     "name": "stderr",
     "output_type": "stream",
     "text": [
      " 38%|███▊      | 154/400 [02:05<03:19,  1.23it/s]"
     ]
    },
    {
     "name": "stdout",
     "output_type": "stream",
     "text": [
      "Epoch   154: reducing learning rate of group 0 to 1.0000e-06.\n"
     ]
    },
    {
     "name": "stderr",
     "output_type": "stream",
     "text": [
      " 41%|████▏     | 165/400 [02:15<03:53,  1.00it/s]"
     ]
    },
    {
     "name": "stdout",
     "output_type": "stream",
     "text": [
      "Epoch   165: reducing learning rate of group 0 to 1.0000e-07.\n"
     ]
    },
    {
     "name": "stderr",
     "output_type": "stream",
     "text": [
      " 45%|████▍     | 179/400 [02:29<03:39,  1.01it/s]"
     ]
    },
    {
     "name": "stdout",
     "output_type": "stream",
     "text": [
      "Epoch   179: reducing learning rate of group 0 to 1.0000e-08.\n"
     ]
    },
    {
     "name": "stderr",
     "output_type": "stream",
     "text": [
      "100%|██████████| 400/400 [06:04<00:00,  1.10it/s]"
     ]
    },
    {
     "name": "stdout",
     "output_type": "stream",
     "text": [
      "Training complete in 6m 5s\n",
      "Best val loss: 0.868292\n"
     ]
    },
    {
     "name": "stderr",
     "output_type": "stream",
     "text": [
      "\n"
     ]
    }
   ],
   "source": [
    "best_model, train_loss_history,val_loss_history,loss_vals = train_model(model, train_loader, validation_loader, criterion, optimizer, epochs,sequence_tensors,text_tensors,ppi_tensors)"
   ]
  },
  {
   "cell_type": "code",
   "execution_count": 25,
   "metadata": {},
   "outputs": [
    {
     "data": {
      "image/png": "[encoded data removed]",
      "text/plain": [
       "<Figure size 432x288 with 1 Axes>"
      ]
     },
     "metadata": {
      "needs_background": "light"
     },
     "output_type": "display_data"
    }
   ],
   "source": [
    "plt.title(\"Training and Validation Loss\")\n",
    "plt.xlabel(\"Training Epochs\")\n",
    "plt.ylabel(\"MSE Loss\")\n",
    "plt.plot(range(1,epochs+1),train_loss_history,label=\"Training\")\n",
    "plt.plot(range(1,epochs+1),val_loss_history,label=\"Validation\")\n",
    "plt.ylim((0.75,2.5))\n",
    "plt.xticks(np.arange(1, epochs, 100.0))\n",
    "plt.legend()\n",
    "plt.rcParams[\"figure.figsize\"] = (10,10)\n",
    "plt.show()"
   ]
  },
  {
   "cell_type": "code",
   "execution_count": 26,
   "metadata": {},
   "outputs": [
    {
     "data": {
      "text/plain": [
       "<torch.utils.hooks.RemovableHandle at 0x7f65bf7b9978>"
      ]
     },
     "execution_count": 26,
     "metadata": {},
     "output_type": "execute_result"
    }
   ],
   "source": [
    "# create and register an forward hook\n",
    "activation = {}\n",
    "def get_activation(name):\n",
    "    def hook(model, input, output):\n",
    "        activation[name] = output.detach()\n",
    "    return hook\n",
    "\n",
    "best_model.encoder4.register_forward_hook(get_activation('encoder4'))"
   ]
  },
  {
   "cell_type": "code",
   "execution_count": 27,
   "metadata": {},
   "outputs": [
    {
     "name": "stderr",
     "output_type": "stream",
     "text": [
      "100%|██████████| 16016/16016 [00:34<00:00, 463.84it/s]\n"
     ]
    }
   ],
   "source": [
    "fused_rep_ae = pd.DataFrame(columns=['Entry', 'Vector'])\n",
    "sequence_tensors_size = sequence_tensors.shape[1]\n",
    "ppi_tensors_size = ppi_tensors.shape[1]\n",
    "text_tensors_size = text_tensors.shape[1]\n",
    "best_model.eval()\n",
    "with torch.no_grad():\n",
    "    for index,row in tqdm.tqdm(fuse_phase_2.iterrows(),total=len(fuse_phase_2)):\n",
    "        #fused_rep_tensor = torch.tensor(list(row['Vector']))\n",
    "        text_tensor = text_tensors[index].view(-1, text_tensors_size).to(device)\n",
    "        ppi_tensor = ppi_tensors[index].view(-1, ppi_tensors_size).to(device)\n",
    "        seq_tensor = sequence_tensors[index].view(-1, sequence_tensors_size).to(device)\n",
    "        \n",
    "        _ = best_model(text_tensor,ppi_tensor,seq_tensor)\n",
    "        coding_layer_output = activation['encoder4'].tolist()[0]    \n",
    "        new_row = {'Entry':row['Entry'], 'Vector':coding_layer_output}\n",
    "        fused_rep_ae = fused_rep_ae.append(new_row, ignore_index=True)"
   ]
  },
  {
   "cell_type": "code",
   "execution_count": 28,
   "metadata": {},
   "outputs": [],
   "source": [
    "multi_modal_rep_ae_multi_col = convert_dataframe_to_multi_col(fused_rep_ae)"
   ]
  },
  {
   "cell_type": "code",
   "execution_count": 29,
   "metadata": {},
   "outputs": [
    {
     "data": {
      "text/html": [
       "<div>\n",
       "<style scoped>\n",
       "    .dataframe tbody tr th:only-of-type {\n",
       "        vertical-align: middle;\n",
       "    }\n",
       "\n",
       "    .dataframe tbody tr th {\n",
       "        vertical-align: top;\n",
       "    }\n",
       "\n",
       "    .dataframe thead th {\n",
       "        text-align: right;\n",
       "    }\n",
       "</style>\n",
       "<table border=\"1\" class=\"dataframe\">\n",
       "  <thead>\n",
       "    <tr style=\"text-align: right;\">\n",
       "      <th></th>\n",
       "      <th>Entry</th>\n",
       "      <th>0</th>\n",
       "      <th>1</th>\n",
       "      <th>2</th>\n",
       "      <th>3</th>\n",
       "      <th>4</th>\n",
       "      <th>5</th>\n",
       "      <th>6</th>\n",
       "      <th>7</th>\n",
       "      <th>8</th>\n",
       "      <th>...</th>\n",
       "      <th>502</th>\n",
       "      <th>503</th>\n",
       "      <th>504</th>\n",
       "      <th>505</th>\n",
       "      <th>506</th>\n",
       "      <th>507</th>\n",
       "      <th>508</th>\n",
       "      <th>509</th>\n",
       "      <th>510</th>\n",
       "      <th>511</th>\n",
       "    </tr>\n",
       "  </thead>\n",
       "  <tbody>\n",
       "    <tr>\n",
       "      <th>0</th>\n",
       "      <td>P31946</td>\n",
       "      <td>-0.357977</td>\n",
       "      <td>0.519689</td>\n",
       "      <td>-0.226442</td>\n",
       "      <td>-0.030316</td>\n",
       "      <td>-0.504166</td>\n",
       "      <td>-0.310577</td>\n",
       "      <td>0.762578</td>\n",
       "      <td>0.775329</td>\n",
       "      <td>-0.820248</td>\n",
       "      <td>...</td>\n",
       "      <td>0.636371</td>\n",
       "      <td>-0.471406</td>\n",
       "      <td>-0.475464</td>\n",
       "      <td>-0.312855</td>\n",
       "      <td>0.368751</td>\n",
       "      <td>0.824349</td>\n",
       "      <td>0.397912</td>\n",
       "      <td>0.288390</td>\n",
       "      <td>0.176021</td>\n",
       "      <td>0.600263</td>\n",
       "    </tr>\n",
       "    <tr>\n",
       "      <th>1</th>\n",
       "      <td>P62258</td>\n",
       "      <td>-0.775619</td>\n",
       "      <td>0.436924</td>\n",
       "      <td>-0.211745</td>\n",
       "      <td>0.329637</td>\n",
       "      <td>-0.517471</td>\n",
       "      <td>-0.470644</td>\n",
       "      <td>0.261717</td>\n",
       "      <td>0.453064</td>\n",
       "      <td>-0.894384</td>\n",
       "      <td>...</td>\n",
       "      <td>0.720090</td>\n",
       "      <td>-0.442199</td>\n",
       "      <td>-0.679317</td>\n",
       "      <td>-0.599569</td>\n",
       "      <td>0.128913</td>\n",
       "      <td>0.617828</td>\n",
       "      <td>0.124357</td>\n",
       "      <td>0.213859</td>\n",
       "      <td>0.284625</td>\n",
       "      <td>0.229075</td>\n",
       "    </tr>\n",
       "    <tr>\n",
       "      <th>2</th>\n",
       "      <td>Q04917</td>\n",
       "      <td>-0.407075</td>\n",
       "      <td>0.364890</td>\n",
       "      <td>-0.430867</td>\n",
       "      <td>-0.105860</td>\n",
       "      <td>-0.119838</td>\n",
       "      <td>-0.373716</td>\n",
       "      <td>0.726596</td>\n",
       "      <td>0.764890</td>\n",
       "      <td>-0.782530</td>\n",
       "      <td>...</td>\n",
       "      <td>0.717053</td>\n",
       "      <td>-0.779265</td>\n",
       "      <td>-0.807476</td>\n",
       "      <td>-0.617518</td>\n",
       "      <td>0.294353</td>\n",
       "      <td>0.851108</td>\n",
       "      <td>0.355995</td>\n",
       "      <td>-0.030086</td>\n",
       "      <td>0.167783</td>\n",
       "      <td>0.645474</td>\n",
       "    </tr>\n",
       "    <tr>\n",
       "      <th>3</th>\n",
       "      <td>P61981</td>\n",
       "      <td>-0.301201</td>\n",
       "      <td>0.243369</td>\n",
       "      <td>-0.452581</td>\n",
       "      <td>-0.013414</td>\n",
       "      <td>-0.280896</td>\n",
       "      <td>-0.478758</td>\n",
       "      <td>0.672570</td>\n",
       "      <td>0.792721</td>\n",
       "      <td>-0.862385</td>\n",
       "      <td>...</td>\n",
       "      <td>0.577496</td>\n",
       "      <td>-0.518647</td>\n",
       "      <td>-0.693463</td>\n",
       "      <td>-0.529075</td>\n",
       "      <td>0.267070</td>\n",
       "      <td>0.546455</td>\n",
       "      <td>0.317777</td>\n",
       "      <td>0.422778</td>\n",
       "      <td>0.232549</td>\n",
       "      <td>0.815493</td>\n",
       "    </tr>\n",
       "    <tr>\n",
       "      <th>4</th>\n",
       "      <td>P31947</td>\n",
       "      <td>-0.719855</td>\n",
       "      <td>-0.330422</td>\n",
       "      <td>-0.325529</td>\n",
       "      <td>0.505221</td>\n",
       "      <td>-0.046153</td>\n",
       "      <td>-0.733239</td>\n",
       "      <td>0.822208</td>\n",
       "      <td>0.728900</td>\n",
       "      <td>-0.804104</td>\n",
       "      <td>...</td>\n",
       "      <td>0.780129</td>\n",
       "      <td>-0.790629</td>\n",
       "      <td>-0.261300</td>\n",
       "      <td>-0.374297</td>\n",
       "      <td>-0.104217</td>\n",
       "      <td>0.646351</td>\n",
       "      <td>0.091650</td>\n",
       "      <td>0.321629</td>\n",
       "      <td>0.061503</td>\n",
       "      <td>0.451217</td>\n",
       "    </tr>\n",
       "    <tr>\n",
       "      <th>...</th>\n",
       "      <td>...</td>\n",
       "      <td>...</td>\n",
       "      <td>...</td>\n",
       "      <td>...</td>\n",
       "      <td>...</td>\n",
       "      <td>...</td>\n",
       "      <td>...</td>\n",
       "      <td>...</td>\n",
       "      <td>...</td>\n",
       "      <td>...</td>\n",
       "      <td>...</td>\n",
       "      <td>...</td>\n",
       "      <td>...</td>\n",
       "      <td>...</td>\n",
       "      <td>...</td>\n",
       "      <td>...</td>\n",
       "      <td>...</td>\n",
       "      <td>...</td>\n",
       "      <td>...</td>\n",
       "      <td>...</td>\n",
       "      <td>...</td>\n",
       "    </tr>\n",
       "    <tr>\n",
       "      <th>16011</th>\n",
       "      <td>Q2QGD7</td>\n",
       "      <td>0.162932</td>\n",
       "      <td>0.156579</td>\n",
       "      <td>-0.722037</td>\n",
       "      <td>0.616376</td>\n",
       "      <td>-0.743977</td>\n",
       "      <td>-0.645961</td>\n",
       "      <td>-0.475206</td>\n",
       "      <td>-0.593877</td>\n",
       "      <td>0.578570</td>\n",
       "      <td>...</td>\n",
       "      <td>0.142718</td>\n",
       "      <td>0.580866</td>\n",
       "      <td>-0.750069</td>\n",
       "      <td>0.413171</td>\n",
       "      <td>0.789343</td>\n",
       "      <td>-0.536757</td>\n",
       "      <td>0.442986</td>\n",
       "      <td>-0.152433</td>\n",
       "      <td>0.828633</td>\n",
       "      <td>0.470770</td>\n",
       "    </tr>\n",
       "    <tr>\n",
       "      <th>16012</th>\n",
       "      <td>Q6WRX3</td>\n",
       "      <td>0.796820</td>\n",
       "      <td>-0.723708</td>\n",
       "      <td>0.579554</td>\n",
       "      <td>-0.470578</td>\n",
       "      <td>-0.233280</td>\n",
       "      <td>-0.283673</td>\n",
       "      <td>-0.195894</td>\n",
       "      <td>-0.362044</td>\n",
       "      <td>-0.292130</td>\n",
       "      <td>...</td>\n",
       "      <td>-0.039554</td>\n",
       "      <td>0.470316</td>\n",
       "      <td>-0.417288</td>\n",
       "      <td>-0.236481</td>\n",
       "      <td>-0.629231</td>\n",
       "      <td>-0.347806</td>\n",
       "      <td>0.010605</td>\n",
       "      <td>0.164728</td>\n",
       "      <td>-0.502808</td>\n",
       "      <td>0.178278</td>\n",
       "    </tr>\n",
       "    <tr>\n",
       "      <th>16013</th>\n",
       "      <td>Q9C0D3</td>\n",
       "      <td>0.775651</td>\n",
       "      <td>-0.510091</td>\n",
       "      <td>0.734860</td>\n",
       "      <td>-0.477696</td>\n",
       "      <td>0.133979</td>\n",
       "      <td>-0.394544</td>\n",
       "      <td>-0.336541</td>\n",
       "      <td>-0.808172</td>\n",
       "      <td>-0.140373</td>\n",
       "      <td>...</td>\n",
       "      <td>0.104024</td>\n",
       "      <td>-0.024060</td>\n",
       "      <td>-0.281458</td>\n",
       "      <td>-0.667646</td>\n",
       "      <td>-0.420669</td>\n",
       "      <td>-0.371359</td>\n",
       "      <td>0.069490</td>\n",
       "      <td>0.701855</td>\n",
       "      <td>-0.431050</td>\n",
       "      <td>0.002671</td>\n",
       "    </tr>\n",
       "    <tr>\n",
       "      <th>16014</th>\n",
       "      <td>Q15942</td>\n",
       "      <td>-0.549399</td>\n",
       "      <td>0.629996</td>\n",
       "      <td>-0.241903</td>\n",
       "      <td>-0.380937</td>\n",
       "      <td>0.684641</td>\n",
       "      <td>0.704733</td>\n",
       "      <td>0.298833</td>\n",
       "      <td>-0.913417</td>\n",
       "      <td>0.661118</td>\n",
       "      <td>...</td>\n",
       "      <td>-0.263437</td>\n",
       "      <td>0.749574</td>\n",
       "      <td>0.579274</td>\n",
       "      <td>-0.584501</td>\n",
       "      <td>0.536728</td>\n",
       "      <td>0.710438</td>\n",
       "      <td>0.341706</td>\n",
       "      <td>0.253626</td>\n",
       "      <td>-0.230799</td>\n",
       "      <td>0.368914</td>\n",
       "    </tr>\n",
       "    <tr>\n",
       "      <th>16015</th>\n",
       "      <td>Q8IYH5</td>\n",
       "      <td>-0.601269</td>\n",
       "      <td>-0.158197</td>\n",
       "      <td>0.047253</td>\n",
       "      <td>0.042925</td>\n",
       "      <td>-0.703700</td>\n",
       "      <td>-0.840927</td>\n",
       "      <td>0.326816</td>\n",
       "      <td>-0.664413</td>\n",
       "      <td>0.290854</td>\n",
       "      <td>...</td>\n",
       "      <td>0.268067</td>\n",
       "      <td>0.249639</td>\n",
       "      <td>0.705640</td>\n",
       "      <td>0.872045</td>\n",
       "      <td>-0.061960</td>\n",
       "      <td>-0.104712</td>\n",
       "      <td>0.723363</td>\n",
       "      <td>-0.123601</td>\n",
       "      <td>-0.289543</td>\n",
       "      <td>0.062875</td>\n",
       "    </tr>\n",
       "  </tbody>\n",
       "</table>\n",
       "<p>16016 rows × 513 columns</p>\n",
       "</div>"
      ],
      "text/plain": [
       "        Entry         0         1         2         3         4         5  \\\n",
       "0      P31946 -0.357977  0.519689 -0.226442 -0.030316 -0.504166 -0.310577   \n",
       "1      P62258 -0.775619  0.436924 -0.211745  0.329637 -0.517471 -0.470644   \n",
       "2      Q04917 -0.407075  0.364890 -0.430867 -0.105860 -0.119838 -0.373716   \n",
       "3      P61981 -0.301201  0.243369 -0.452581 -0.013414 -0.280896 -0.478758   \n",
       "4      P31947 -0.719855 -0.330422 -0.325529  0.505221 -0.046153 -0.733239   \n",
       "...       ...       ...       ...       ...       ...       ...       ...   \n",
       "16011  Q2QGD7  0.162932  0.156579 -0.722037  0.616376 -0.743977 -0.645961   \n",
       "16012  Q6WRX3  0.796820 -0.723708  0.579554 -0.470578 -0.233280 -0.283673   \n",
       "16013  Q9C0D3  0.775651 -0.510091  0.734860 -0.477696  0.133979 -0.394544   \n",
       "16014  Q15942 -0.549399  0.629996 -0.241903 -0.380937  0.684641  0.704733   \n",
       "16015  Q8IYH5 -0.601269 -0.158197  0.047253  0.042925 -0.703700 -0.840927   \n",
       "\n",
       "              6         7         8  ...       502       503       504  \\\n",
       "0      0.762578  0.775329 -0.820248  ...  0.636371 -0.471406 -0.475464   \n",
       "1      0.261717  0.453064 -0.894384  ...  0.720090 -0.442199 -0.679317   \n",
       "2      0.726596  0.764890 -0.782530  ...  0.717053 -0.779265 -0.807476   \n",
       "3      0.672570  0.792721 -0.862385  ...  0.577496 -0.518647 -0.693463   \n",
       "4      0.822208  0.728900 -0.804104  ...  0.780129 -0.790629 -0.261300   \n",
       "...         ...       ...       ...  ...       ...       ...       ...   \n",
       "16011 -0.475206 -0.593877  0.578570  ...  0.142718  0.580866 -0.750069   \n",
       "16012 -0.195894 -0.362044 -0.292130  ... -0.039554  0.470316 -0.417288   \n",
       "16013 -0.336541 -0.808172 -0.140373  ...  0.104024 -0.024060 -0.281458   \n",
       "16014  0.298833 -0.913417  0.661118  ... -0.263437  0.749574  0.579274   \n",
       "16015  0.326816 -0.664413  0.290854  ...  0.268067  0.249639  0.705640   \n",
       "\n",
       "            505       506       507       508       509       510       511  \n",
       "0     -0.312855  0.368751  0.824349  0.397912  0.288390  0.176021  0.600263  \n",
       "1     -0.599569  0.128913  0.617828  0.124357  0.213859  0.284625  0.229075  \n",
       "2     -0.617518  0.294353  0.851108  0.355995 -0.030086  0.167783  0.645474  \n",
       "3     -0.529075  0.267070  0.546455  0.317777  0.422778  0.232549  0.815493  \n",
       "4     -0.374297 -0.104217  0.646351  0.091650  0.321629  0.061503  0.451217  \n",
       "...         ...       ...       ...       ...       ...       ...       ...  \n",
       "16011  0.413171  0.789343 -0.536757  0.442986 -0.152433  0.828633  0.470770  \n",
       "16012 -0.236481 -0.629231 -0.347806  0.010605  0.164728 -0.502808  0.178278  \n",
       "16013 -0.667646 -0.420669 -0.371359  0.069490  0.701855 -0.431050  0.002671  \n",
       "16014 -0.584501  0.536728  0.710438  0.341706  0.253626 -0.230799  0.368914  \n",
       "16015  0.872045 -0.061960 -0.104712  0.723363 -0.123601 -0.289543  0.062875  \n",
       "\n",
       "[16016 rows x 513 columns]"
      ]
     },
     "execution_count": 29,
     "metadata": {},
     "output_type": "execute_result"
    }
   ],
   "source": [
    "multi_modal_rep_ae_multi_col"
   ]
  },
  {
   "cell_type": "code",
   "execution_count": null,
   "metadata": {},
   "outputs": [],
   "source": []
  },
  {
   "cell_type": "code",
   "execution_count": 31,
   "metadata": {},
   "outputs": [],
   "source": [
    "multi_modal_rep_ae_multi_col.to_csv\\\n",
    "(\"/media/DATA/serbulent/Code/Thesis/TheRepresentation/Preprocess/HoloProtRep/\\\n",
    "before_thesis/multi_modal_rep_ae_\"+str(representation_dim)+\"_dim_\"+str(epochs)+\"_epochs_ppi_no_comp.csv\"\\\n",
    ",index=False)"
   ]
  },
  {
   "cell_type": "markdown",
   "metadata": {},
   "source": [
    "## Define Seq Based Model"
   ]
  },
  {
   "cell_type": "code",
   "execution_count": 32,
   "metadata": {},
   "outputs": [
    {
     "data": {
      "text/plain": [
       "tensor([[ 0.0374,  0.0325, -0.0009,  ...,  0.0247,  0.0269, -0.0056],\n",
       "        [-0.0069,  0.0112,  0.0289,  ..., -0.0597, -0.0193,  0.0384],\n",
       "        [-0.0162,  0.0690,  0.0211,  ...,  0.0046, -0.0288,  0.0250],\n",
       "        ...,\n",
       "        [-0.0226, -0.0429,  0.0140,  ..., -0.0412,  0.0510, -0.0125],\n",
       "        [ 0.0386, -0.0519, -0.0077,  ..., -0.0067,  0.0013,  0.0542],\n",
       "        [-0.0006,  0.0065,  0.0576,  ..., -0.0291, -0.0844,  0.0321]],\n",
       "       device='cuda:0')"
      ]
     },
     "execution_count": 32,
     "metadata": {},
     "output_type": "execute_result"
    }
   ],
   "source": [
    "best_model.encoder3[0].weight.data"
   ]
  },
  {
   "cell_type": "code",
   "execution_count": 33,
   "metadata": {},
   "outputs": [
    {
     "data": {
      "text/plain": [
       "4"
      ]
     },
     "execution_count": 33,
     "metadata": {},
     "output_type": "execute_result"
    }
   ],
   "source": [
    "len(best_model.encoder3)"
   ]
  },
  {
   "cell_type": "code",
   "execution_count": 34,
   "metadata": {},
   "outputs": [],
   "source": [
    "class Autoencoder_Seq(nn.Module):\n",
    "    def __init__(self,pretrained_model):\n",
    "        super(Autoencoder_Seq, self).__init__()\n",
    "        self.pretrained_model = pretrained_model\n",
    "        \n",
    "        self.text_dim = 1024\n",
    "        self.text_dim1 = 768\n",
    "        self.text_dim2 = 512\n",
    "        self.ppi_dim = 10\n",
    "        self.ppi_dim1 = 10\n",
    "        self.ppi_dim2 = 10\n",
    "        self.seq_dim = 1024\n",
    "        self.seq_dim1 = 768\n",
    "        self.seq_dim2 = 512\n",
    "        self.zdim = representation_dim\n",
    "\n",
    "        self.encoder3 = nn.Sequential(\n",
    "            nn.Linear(self.seq_dim, self.seq_dim1),\n",
    "            nn.Tanh(),\n",
    "            nn.Linear(self.seq_dim1, self.seq_dim2),\n",
    "            nn.Tanh()\n",
    "        )\n",
    "        self.encoder4 = nn.Sequential(\n",
    "            nn.Linear(self.seq_dim2, self.zdim),\n",
    "            nn.Tanh()\n",
    "        )\n",
    "\n",
    "        self.decoder4 = nn.Sequential(\n",
    "            nn.Linear(self.zdim, self.text_dim2 + self.ppi_dim2 + self.seq_dim2),\n",
    "            nn.Tanh()\n",
    "        )\n",
    "\n",
    "        self.decoder3 = nn.Sequential(\n",
    "            nn.Linear(self.text_dim2, self.text_dim1),\n",
    "            nn.Tanh(),\n",
    "            nn.Linear(self.text_dim1, self.text_dim),\n",
    "            nn.Tanh()\n",
    "        )\n",
    "        self.decoder2 = nn.Sequential(\n",
    "            nn.Linear(self.ppi_dim2, self.ppi_dim1),\n",
    "            nn.Tanh(),\n",
    "            nn.Linear(self.ppi_dim1, self.ppi_dim),\n",
    "            nn.Tanh()\n",
    "        )\n",
    "        self.decoder1 = nn.Sequential(\n",
    "            nn.Linear(self.seq_dim2, self.seq_dim1),\n",
    "            nn.Tanh(),\n",
    "            nn.Linear(self.seq_dim1, self.seq_dim),\n",
    "            nn.Tanh()\n",
    "        )\n",
    "        \n",
    "    def load_parameters(self):\n",
    "        self.encoder3[0].weight.data = copy.deepcopy(self.pretrained_model.encoder3[0].weight.data)\n",
    "        self.encoder3[2].weight.data = copy.deepcopy(self.pretrained_model.encoder3[2].weight.data)\n",
    "        self.encoder3[0].bias.data = copy.deepcopy(self.pretrained_model.encoder3[0].bias.data)\n",
    "        self.encoder3[2].bias.data = copy.deepcopy(self.pretrained_model.encoder3[2].bias.data)\n",
    "        \n",
    "        self.decoder4[0].weight.data = copy.deepcopy(self.pretrained_model.decoder4[0].weight.data)\n",
    "        self.decoder4[0].bias.data = copy.deepcopy(self.pretrained_model.decoder4[0].bias.data)\n",
    "        \n",
    "        self.decoder3[0].weight.data = copy.deepcopy(self.pretrained_model.decoder3[0].weight.data)\n",
    "        self.decoder3[2].weight.data = copy.deepcopy(self.pretrained_model.decoder3[2].weight.data)\n",
    "        self.decoder3[0].bias.data = copy.deepcopy(self.pretrained_model.decoder3[0].bias.data)\n",
    "        self.decoder3[2].bias.data = copy.deepcopy(self.pretrained_model.decoder3[2].bias.data)\n",
    "        \n",
    "        self.decoder2[0].weight.data = copy.deepcopy(self.pretrained_model.decoder2[0].weight.data)\n",
    "        self.decoder2[2].weight.data = copy.deepcopy(self.pretrained_model.decoder2[2].weight.data)\n",
    "        self.decoder2[0].bias.data = copy.deepcopy(self.pretrained_model.decoder2[0].bias.data)\n",
    "        self.decoder2[2].bias.data = copy.deepcopy(self.pretrained_model.decoder2[2].bias.data)\n",
    "        \n",
    "        self.decoder1[0].weight.data = copy.deepcopy(self.pretrained_model.decoder1[0].weight.data)\n",
    "        self.decoder1[2].weight.data = copy.deepcopy(self.pretrained_model.decoder1[2].weight.data)\n",
    "        self.decoder1[0].bias.data = copy.deepcopy(self.pretrained_model.decoder1[0].bias.data)\n",
    "        self.decoder1[2].bias.data = copy.deepcopy(self.pretrained_model.decoder1[2].bias.data)\n",
    "\n",
    "    def forward(self, x_seq):\n",
    "        encoded_seq = self.encoder3(x_seq)\n",
    "        encoded_mid = self.encoder4(encoded_seq)\n",
    "        decoded_mid = self.decoder4(encoded_mid)\n",
    "        decoded_text = self.decoder3(decoded_mid[:, 0:self.text_dim2])\n",
    "        decoded_ppi = self.decoder2(decoded_mid[:, self.text_dim2:self.text_dim2 + self.ppi_dim2])\n",
    "        decoded_seq = self.decoder1(decoded_mid[:, self.text_dim2 + self.ppi_dim2:])\n",
    "        return decoded_text, decoded_ppi, decoded_seq, encoded_mid"
   ]
  },
  {
   "cell_type": "code",
   "execution_count": 35,
   "metadata": {},
   "outputs": [],
   "source": [
    "def train_model_for_seq(model, train_loader, validation_loader, criterion,optimizer, num_epochs,\\\n",
    "                sequence_tensors,text_tensors,ppi_tensors):\n",
    "    since = time.time()\n",
    "\n",
    "    train_loss_history = []\n",
    "    val_loss_history = []\n",
    "    best_model_wts = copy.deepcopy(model.state_dict())\n",
    "    best_loss = 10**10    \n",
    "    scheduler = lr_scheduler.ReduceLROnPlateau(optimizer, 'min',verbose=True)\n",
    "    loss_vals = []\n",
    "    encoded_mid = None\n",
    "    sequence_tensors_size = sequence_tensors.shape[1]\n",
    "    ppi_tensors_size = ppi_tensors.shape[1]\n",
    "    text_tensors_size = text_tensors.shape[1]\n",
    "    for epoch in tqdm.tqdm(range(num_epochs)):\n",
    "\n",
    "        # Each epoch has a training and validation phase\n",
    "        for phase in ['train', 'val']:\n",
    "            if phase == 'train':\n",
    "                model.train()  # Set model to training mode\n",
    "                inputs = train_loader\n",
    "            else:\n",
    "                model.eval()   # Set model to evaluate mode\n",
    "                inputs = validation_loader\n",
    "\n",
    "            loss = 0\n",
    "            for batch_features in inputs:\n",
    "                sequence_batch = sequence_tensors[batch_features].view(-1, sequence_tensors_size).to(device)\n",
    "                ppi_batch = ppi_tensors[batch_features].view(-1, ppi_tensors_size).to(device)\n",
    "                text_batch = text_tensors[batch_features].view(-1, text_tensors_size).to(device)             \n",
    "                # PyTorch accumulates gradients on subsequent backward passes\n",
    "                optimizer.zero_grad()                \n",
    "                decoded_text, decoded_ppi, decoded_seq, encoded_mid =\\\n",
    "                model(sequence_batch)\n",
    "                # compute training reconstruction loss\n",
    "                train_loss = criterion(decoded_text, text_batch) + \\\n",
    "                criterion(decoded_ppi, ppi_batch) + criterion(decoded_seq, sequence_batch) \n",
    "                #train_loss = criterion(outputs, batch_features,target)\n",
    "                # compute accumulated gradients\n",
    "                train_loss.backward()\n",
    "                # perform parameter update based on current gradients\n",
    "                optimizer.step()\n",
    "                # add the mini-batch training loss to epoch loss\n",
    "                loss += train_loss.item()\n",
    "            # compute the epoch training loss\n",
    "            epoch_loss = loss / len(inputs)\n",
    "\n",
    "            # deep copy the model\n",
    "            if phase == 'val' and epoch_loss < best_loss:\n",
    "                best_loss = epoch_loss\n",
    "                best_model_wts = copy.deepcopy(model.state_dict())\n",
    "            if phase == 'val':\n",
    "                val_loss_history.append(epoch_loss)\n",
    "                scheduler.step(epoch_loss)\n",
    "            elif phase == 'train':\n",
    "                train_loss_history.append(epoch_loss)\n",
    "    time_elapsed = time.time() - since\n",
    "    print('Training complete in {:.0f}m {:.0f}s'.format(time_elapsed // 60, time_elapsed % 60))\n",
    "    print('Best val loss: {:4f}'.format(best_loss))\n",
    "    # load best model weights\n",
    "    model.load_state_dict(best_model_wts)\n",
    "    return model, train_loss_history,val_loss_history,loss_vals"
   ]
  },
  {
   "cell_type": "code",
   "execution_count": 36,
   "metadata": {},
   "outputs": [],
   "source": [
    "epochs = 500\n",
    "# create a model from `AE` autoencoder class\n",
    "# load it to the specified device, either gpu or cpu\n",
    "model = Autoencoder_Seq(best_model).to(device)\n",
    "model.load_parameters()\n",
    "# create an optimizer object\n",
    "# Adam optimizer with learning rate 1e-3\n",
    "optimizer = torch.optim.AdamW(model.parameters(), lr=1e-3)\n",
    "#optimizer = torch.optim.SGD(model.parameters(), lr=1e-3)\n",
    "\n",
    "# mean-squared error loss\n",
    "criterion = nn.MSELoss()\n",
    "#criterion = nn.SmoothL1Loss()\n",
    "#criterion = nn.CosineEmbeddingLoss()"
   ]
  },
  {
   "cell_type": "code",
   "execution_count": 37,
   "metadata": {},
   "outputs": [
    {
     "name": "stderr",
     "output_type": "stream",
     "text": [
      "  5%|▌         | 26/500 [00:27<07:53,  1.00it/s]"
     ]
    },
    {
     "name": "stdout",
     "output_type": "stream",
     "text": [
      "Epoch    26: reducing learning rate of group 0 to 1.0000e-04.\n"
     ]
    },
    {
     "name": "stderr",
     "output_type": "stream",
     "text": [
      " 21%|██        | 105/500 [01:48<07:20,  1.11s/it]"
     ]
    },
    {
     "name": "stdout",
     "output_type": "stream",
     "text": [
      "Epoch   105: reducing learning rate of group 0 to 1.0000e-05.\n"
     ]
    },
    {
     "name": "stderr",
     "output_type": "stream",
     "text": [
      " 25%|██▌       | 127/500 [02:13<06:46,  1.09s/it]"
     ]
    },
    {
     "name": "stdout",
     "output_type": "stream",
     "text": [
      "Epoch   127: reducing learning rate of group 0 to 1.0000e-06.\n"
     ]
    },
    {
     "name": "stderr",
     "output_type": "stream",
     "text": [
      " 30%|██▉       | 148/500 [02:36<06:21,  1.08s/it]"
     ]
    },
    {
     "name": "stdout",
     "output_type": "stream",
     "text": [
      "Epoch   148: reducing learning rate of group 0 to 1.0000e-07.\n"
     ]
    },
    {
     "name": "stderr",
     "output_type": "stream",
     "text": [
      " 32%|███▏      | 159/500 [02:48<06:10,  1.09s/it]"
     ]
    },
    {
     "name": "stdout",
     "output_type": "stream",
     "text": [
      "Epoch   159: reducing learning rate of group 0 to 1.0000e-08.\n"
     ]
    },
    {
     "name": "stderr",
     "output_type": "stream",
     "text": [
      "100%|██████████| 500/500 [08:57<00:00,  1.07s/it]"
     ]
    },
    {
     "name": "stdout",
     "output_type": "stream",
     "text": [
      "Training complete in 8m 57s\n",
      "Best val loss: 1.502444\n"
     ]
    },
    {
     "name": "stderr",
     "output_type": "stream",
     "text": [
      "\n"
     ]
    }
   ],
   "source": [
    "best_model_seq, train_loss_history_seq,val_loss_history_seq,loss_vals_seq\\\n",
    "= train_model_for_seq(model, train_loader, validation_loader, criterion,\\\n",
    "              optimizer, epochs,sequence_tensors,text_tensors,ppi_tensors)"
   ]
  },
  {
   "cell_type": "code",
   "execution_count": 38,
   "metadata": {},
   "outputs": [
    {
     "data": {
      "image/png": "[encoded data removed]",
      "text/plain": [
       "<Figure size 720x720 with 1 Axes>"
      ]
     },
     "metadata": {
      "needs_background": "light"
     },
     "output_type": "display_data"
    }
   ],
   "source": [
    "plt.title(\"Training and Validation Loss\")\n",
    "plt.xlabel(\"Training Epochs\")\n",
    "plt.ylabel(\"MSE Loss\")\n",
    "plt.plot(range(1,epochs+1),train_loss_history_seq,label=\"Training\")\n",
    "plt.plot(range(1,epochs+1),val_loss_history_seq,label=\"Validation\")\n",
    "plt.ylim((0.75,2.5))\n",
    "plt.xticks(np.arange(1, epochs, 100.0))\n",
    "plt.legend()\n",
    "plt.rcParams[\"figure.figsize\"] = (10,10)\n",
    "plt.show()"
   ]
  },
  {
   "cell_type": "code",
   "execution_count": 39,
   "metadata": {},
   "outputs": [
    {
     "data": {
      "text/plain": [
       "<torch.utils.hooks.RemovableHandle at 0x7f65bd7e0f98>"
      ]
     },
     "execution_count": 39,
     "metadata": {},
     "output_type": "execute_result"
    }
   ],
   "source": [
    "# create and register an forward hook\n",
    "activation = {}\n",
    "def get_activation(name):\n",
    "    def hook(model, input, output):\n",
    "        activation[name] = output.detach()\n",
    "    return hook\n",
    "\n",
    "best_model_seq.encoder4.register_forward_hook(get_activation('encoder4'))\n",
    "#x = fused_rep_torch_tensor[0].to(device)\n",
    "#best_model.eval()\n",
    "#with torch.no_grad():\n",
    "    #output = best_model(x)\n",
    "#activation['encoded_mid'].shape"
   ]
  },
  {
   "cell_type": "code",
   "execution_count": 40,
   "metadata": {},
   "outputs": [],
   "source": [
    "sequence_tensors_size = sequence_tensors.shape[1]\n",
    "ppi_tensors_size = ppi_tensors.shape[1]\n",
    "text_tensors_size = text_tensors.shape[1]\n",
    "\n",
    "best_model_seq.eval()\n",
    "with torch.no_grad():\n",
    "    output = best_model_seq(sequence_tensors[0].view(-1, sequence_tensors_size).to(device))"
   ]
  },
  {
   "cell_type": "code",
   "execution_count": 41,
   "metadata": {},
   "outputs": [
    {
     "name": "stderr",
     "output_type": "stream",
     "text": [
      "100%|██████████| 16016/16016 [00:31<00:00, 509.29it/s]\n"
     ]
    }
   ],
   "source": [
    "fused_rep_ae = pd.DataFrame(columns=['Entry', 'Vector'])\n",
    "#sequence_tensors_size = sequence_tensors.shape[1]\n",
    "#ppi_tensors_size = ppi_tensors.shape[1]\n",
    "#text_tensors_size = text_tensors.shape[1]\n",
    "best_model.eval()\n",
    "with torch.no_grad():\n",
    "    for index,row in tqdm.tqdm(fuse_phase_2.iterrows(),total=len(fuse_phase_2)):\n",
    "        #fused_rep_tensor = torch.tensor(list(row['Vector']))\n",
    "        text_tensor = text_tensors[index].view(-1, text_tensors_size).to(device)\n",
    "        ppi_tensor = ppi_tensors[index].view(-1, ppi_tensors_size).to(device)\n",
    "        seq_tensor = sequence_tensors[index].view(-1, sequence_tensors_size).to(device)\n",
    "        \n",
    "        _ = best_model_seq(seq_tensor)\n",
    "        coding_layer_output = activation['encoder4'].tolist()[0]    \n",
    "        new_row = {'Entry':row['Entry'], 'Vector':coding_layer_output}\n",
    "        fused_rep_ae = fused_rep_ae.append(new_row, ignore_index=True)"
   ]
  },
  {
   "cell_type": "code",
   "execution_count": 42,
   "metadata": {},
   "outputs": [],
   "source": [
    "multi_modal_rep_ae_multi_col = convert_dataframe_to_multi_col(fused_rep_ae)"
   ]
  },
  {
   "cell_type": "code",
   "execution_count": 43,
   "metadata": {},
   "outputs": [],
   "source": [
    "multi_modal_rep_ae_multi_col.to_csv\\\n",
    "(\"/media/DATA/serbulent/Code/Thesis/TheRepresentation/Preprocess/HoloProtRep/\\\n",
    "before_thesis/multi_modal_rep_ae_seq_based_\"+str(representation_dim)+\"_dim_\"+str(epochs)+\"_epochs_ppi_no_comp.csv\"\\\n",
    ",index=False)"
   ]
  },
  {
   "cell_type": "code",
   "execution_count": null,
   "metadata": {},
   "outputs": [],
   "source": []
  }
 ],
 "metadata": {
  "kernelspec": {
   "display_name": "Python [conda env:HoloProtRep-AE]",
   "language": "python",
   "name": "conda-env-HoloProtRep-AE-py"
  },
  "language_info": {
   "codemirror_mode": {
    "name": "ipython",
    "version": 3
   },
   "file_extension": ".py",
   "mimetype": "text/x-python",
   "name": "python",
   "nbconvert_exporter": "python",
   "pygments_lexer": "ipython3",
   "version": "3.7.0"
  }
 },
 "nbformat": 4,
 "nbformat_minor": 5
}
